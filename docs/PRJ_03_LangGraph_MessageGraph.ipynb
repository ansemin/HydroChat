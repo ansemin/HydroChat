{
 "cells": [
  {
   "cell_type": "markdown",
   "metadata": {},
   "source": [
    "## 1. Environment Setup"
   ]
  },
  {
   "cell_type": "markdown",
   "metadata": {},
   "source": [
    "`(1) Env Environment Variables`"
   ]
  },
  {
   "cell_type": "code",
   "execution_count": 1,
   "metadata": {},
   "outputs": [
    {
     "data": {
      "text/plain": [
       "True"
      ]
     },
     "execution_count": 1,
     "metadata": {},
     "output_type": "execute_result"
    }
   ],
   "source": [
    "from dotenv import load_dotenv\n",
    "load_dotenv()"
   ]
  },
  {
   "cell_type": "markdown",
   "metadata": {},
   "source": [
    "`(2) Basic Libraries`"
   ]
  },
  {
   "cell_type": "code",
   "execution_count": 2,
   "metadata": {},
   "outputs": [],
   "source": [
    "import re\n",
    "import os, json\n",
    "\n",
    "from textwrap import dedent\n",
    "from pprint import pprint\n",
    "\n",
    "import warnings\n",
    "warnings.filterwarnings(\"ignore\")"
   ]
  },
  {
   "cell_type": "markdown",
   "metadata": {},
   "source": [
    "## 2. State Reducer\n",
    "- A Reducer is an important concept in LangGraph for managing state updates.\n",
    "- It defines how to integrate the output of each node in the graph into the graph's state.\n",
    "- Necessity of a Reducer\n",
    "    - State Overwriting Problem: By default, the return value of each node overwrites the previous value of the corresponding state key (override).\n",
    "    - Need for Cumulative Updates: Especially in cases like a list of messages, you may want to add new values to the previous state."
   ]
  },
  {
   "cell_type": "markdown",
   "metadata": {},
   "source": [
    "`(1) When a Reducer is not specified separately `\n",
    "- If a reducer is not specified separately, it operates by overwriting the existing value.\n",
    "- The default reducer is automatically applied when used without any separate configuration for the state."
   ]
  },
  {
   "cell_type": "code",
   "execution_count": 3,
   "metadata": {},
   "outputs": [
    {
     "data": {
      "image/jpeg": "[encoded data removed]",
      "text/plain": [
       "<IPython.core.display.Image object>"
      ]
     },
     "metadata": {},
     "output_type": "display_data"
    }
   ],
   "source": [
    "from typing import TypedDict, List, Annotated\n",
    "\n",
    "# Custom reducer: merge lists while removing duplicate documents\n",
    "def reduce_unique_documents(left: list | None, right: list | None) -> list:\n",
    "    \"\"\"Combine two lists of documents, removing duplicates.\"\"\"\n",
    "    if not left:\n",
    "        left = []\n",
    "    if not right:\n",
    "        right = []\n",
    "    # Remove duplicates: use a set to remove duplicate documents and then convert back to a list\n",
    "    return list(set(left + right))\n",
    "\n",
    "# Define State (including documents field)\n",
    "class CustomReducerState(TypedDict):\n",
    "    query: str\n",
    "    documents: Annotated[List[str], reduce_unique_documents]  # Apply Custom Reducer\n",
    "\n",
    "\n",
    "# Node 1: query update\n",
    "def node_1(state: CustomReducerState) -> CustomReducerState:\n",
    "    print(\"---Node 1 (query update)---\")\n",
    "    query = state[\"query\"]\n",
    "    return {\"query\": query}\n",
    "\n",
    "# Node 2: add documents\n",
    "def node_2(state: CustomReducerState) -> CustomReducerState:\n",
    "    print(\"---Node 2 (add documents)---\")\n",
    "    return {\"documents\": [\"doc1.pdf\", \"doc2.pdf\", \"doc3.pdf\"]}\n",
    "\n",
    "# Node 3: add more documents\n",
    "def node_3(state: CustomReducerState) -> CustomReducerState:\n",
    "    print(\"---Node 3 (add more documents)---\")\n",
    "    return {\"documents\": [\"doc2.pdf\", \"doc4.pdf\", \"doc5.pdf\"]}\n",
    "\n",
    "# Build Graph\n",
    "builder = StateGraph(CustomReducerState)\n",
    "builder.add_node(\"node_1\", node_1)\n",
    "builder.add_node(\"node_2\", node_2)\n",
    "builder.add_node(\"node_3\", node_3)\n",
    "\n",
    "# Configure Logic\n",
    "builder.add_edge(START, \"node_1\")\n",
    "builder.add_edge(\"node_1\", \"node_2\")\n",
    "builder.add_edge(\"node_2\", \"node_3\")\n",
    "builder.add_edge(\"node_3\", END)\n",
    "\n",
    "# Execute Graph\n",
    "graph = builder.compile()\n",
    "\n",
    "# Visualize Graph\n",
    "display(Image(graph.get_graph().draw_mermaid_png()))"
   ]
  },
  {
   "cell_type": "code",
   "execution_count": 8,
   "metadata": {},
   "outputs": [
    {
     "name": "stdout",
     "output_type": "stream",
     "text": [
      "---Node 1 (query update)---\n",
      "---Node 2 (add documents)---\n",
      "---Node 3 (add more documents)---\n",
      "Final State: {'query': 'Recommend a vegan dish for a vegetarian.', 'documents': ['doc1.pdf', 'doc4.pdf', 'doc3.pdf', 'doc2.pdf', 'doc5.pdf']}\n"
     ]
    }
   ],
   "source": [
    "# Initial State\n",
    "initial_state = {\"query\": \"Recommend a vegan dish for a vegetarian.\", \"documents\": []}\n",
    "\n",
    "# Execute Graph\n",
    "final_state = graph.invoke(initial_state)\n",
    "\n",
    "# Print Final State\n",
    "print(\"Final State:\", final_state)"
   ]
  },
  {
   "cell_type": "markdown",
   "metadata": {},
   "source": [
    "## 3. MessageGraph\n",
    "- LangChain's ChatModel processes a list of Message objects as input (a special type of StateGraph).\n",
    "- These messages are provided in various forms, such as HumanMessage (user input) or AIMessage (LLM response)."
   ]
  },
  {
   "cell_type": "markdown",
   "metadata": {},
   "source": [
    "`(1) Defining Messages State`\n",
    "- It is useful to save the previous conversation history as a list of messages in the graph state.\n",
    "- Add a key (channel) to the graph state to store the list of Message objects, and add a reducer function to this key.\n",
    "- Reducer function selection:\n",
    "    - Using operator.add: simply adds new messages to the existing list.\n",
    "    - Using the add_messages function:\n",
    "        - New messages are added to the existing list.\n",
    "        - Updates to existing messages are also handled correctly (by tracking message IDs)."
   ]
  },
  {
   "cell_type": "code",
   "execution_count": 9,
   "metadata": {},
   "outputs": [],
   "source": [
    "from typing import Annotated\n",
    "from langchain_core.messages import AnyMessage\n",
    "from langgraph.graph.message import add_messages\n",
    "\n",
    "# Use the basic State initialization method\n",
    "class GraphState(TypedDict):\n",
    "    messages: Annotated[list[AnyMessage], add_messages]"
   ]
  },
  {
   "cell_type": "code",
   "execution_count": 10,
   "metadata": {},
   "outputs": [],
   "source": [
    "# Use the pre-built state called LangGraph MessagesState\n",
    "from langgraph.graph import MessagesState\n",
    "from typing import List\n",
    "from langchain_core.documents import Document\n",
    "\n",
    "class GraphState(MessagesState):\n",
    "    # The 'messages' key is provided by default - if you want to add other keys, you can apply them as shown in the comments below\n",
    "    documents: List[Document]\n",
    "    grade: float\n",
    "    num_generation: int"
   ]
  },
  {
   "cell_type": "markdown",
   "metadata": {},
   "source": [
    "`(2) RAG Chain Configuration`\n",
    "- Initialize the vector store for menu search (load the existing store).\n",
    "- Implemented as a LangChain Runnable."
   ]
  },
  {
   "cell_type": "code",
   "execution_count": 11,
   "metadata": {},
   "outputs": [
    {
     "name": "stdout",
     "output_type": "stream",
     "text": [
      "We recommend the Garden Salad for vegetarians.\n",
      "\n",
      "The Garden Salad consists of fresh vegetables such as organic mixed greens, cherry tomatoes, cucumbers, and carrots, and the healthy balsamic dressing enhances the taste of the vegetables. The price is ₩12,000. It is a suitable menu for vegetarians as you can enjoy various tastes and crispy textures.\n"
     ]
    }
   ],
   "source": [
    "from langchain_chroma import Chroma\n",
    "from langchain_ollama  import OllamaEmbeddings\n",
    "from langchain_openai import ChatOpenAI\n",
    "from langchain_core.messages import HumanMessage, AIMessage\n",
    "from langchain_core.output_parsers import StrOutputParser\n",
    "from langchain_core.prompts import ChatPromptTemplate\n",
    "from langchain_core.runnables import RunnablePassthrough, RunnableLambda\n",
    "\n",
    "embeddings_model = OllamaEmbeddings(model=\"bge-m3\") \n",
    "\n",
    "# Load Chroma index\n",
    "vector_db = Chroma(\n",
    "    embedding_function=embeddings_model,   \n",
    "    collection_name=\"restaurant_menu\",\n",
    "    persist_directory=\"./chroma_db\",\n",
    ")\n",
    "\n",
    "# LLM Model\n",
    "llm = ChatOpenAI(model=\"gpt-4o-mini\")\n",
    "\n",
    "# Configure RAG chain\n",
    "def format_docs(docs):\n",
    "    return \"\\n\\n\".join(doc.page_content for doc in docs)\n",
    "\n",
    "system = \"\"\"\n",
    "You are a helpful assistant. Use the following context to answer the user's question:\n",
    "\n",
    "[Context]\n",
    "{context}\n",
    "\"\"\"\n",
    "\n",
    "prompt = ChatPromptTemplate.from_messages([\n",
    "    (\"system\", system),\n",
    "    (\"human\", \"{question}\")\n",
    "])\n",
    "\n",
    "# Define retriever\n",
    "retriever = vector_db.as_retriever(\n",
    "    search_kwargs={\"k\": 2}\n",
    ")\n",
    "\n",
    "# Configure RAG chain\n",
    "rag_chain = (\n",
    "    {\"context\": retriever | format_docs, \"question\": RunnablePassthrough()}\n",
    "    | prompt\n",
    "    | llm\n",
    "    | StrOutputParser()\n",
    ")\n",
    "\n",
    "# Execute RAG chain\n",
    "query = \"Recommend a menu for a vegetarian.\"\n",
    "response = rag_chain.invoke(query)\n",
    "\n",
    "# Print response\n",
    "print(response)"
   ]
  },
  {
   "cell_type": "markdown",
   "metadata": {},
   "source": [
    "`(3) Node`"
   ]
  },
  {
   "cell_type": "code",
   "execution_count": 15,
   "metadata": {},
   "outputs": [],
   "source": [
    "# Define RAG execution function\n",
    "def retrieve_and_respond(state: GraphState):\n",
    "    last_human_message = state['messages'][-1]\n",
    "    \n",
    "    # Access the content attribute of the HumanMessage object\n",
    "    query = last_human_message.content\n",
    "    \n",
    "    # Document retrieval\n",
    "    retrieved_docs = retriever.invoke(query)\n",
    "    \n",
    "    # Generate response\n",
    "    response = rag_chain.invoke(query)\n",
    "    \n",
    "    # Save the retrieved documents and response to the state\n",
    "    return {\n",
    "        \"messages\": [AIMessage(content=response)],\n",
    "        \"documents\": retrieved_docs\n",
    "    }"
   ]
  },
  {
   "cell_type": "code",
   "execution_count": 12,
   "metadata": {},
   "outputs": [],
   "source": [
    "from pydantic import BaseModel, Field\n",
    "\n",
    "class GradeResponse(BaseModel):\n",
    "    \"A score for answers\"\n",
    "    score: float = Field(..., ge=0, le=1, description=\"A score from 0 to 1, where 1 is perfect\")\n",
    "    explanation: str = Field(..., description=\"An explanation for the given score\")\n",
    "\n",
    "# Answer quality evaluation function\n",
    "def grade_answer(state: GraphState):\n",
    "    messages = state['messages']\n",
    "    question = messages[-2].content\n",
    "    answer = messages[-1].content\n",
    "    context = format_docs(state['documents'])\n",
    "\n",
    "    grading_system = \"\"\"You are an expert grader. \n",
    "    Grade the following answer based on its relevance and accuracy to the question, considering the given context. \n",
    "    Provide a score from 0 to 1, where 1 is perfect, along with an explanation.\"\"\"\n",
    "\n",
    "    grading_prompt = ChatPromptTemplate.from_messages([\n",
    "        (\"system\", grading_system),\n",
    "        (\"human\", \"[Question]\\n{question}\\n\\n[Context]\\n{context}\\n\\n[Answer]\\n{answer}\\n\\n[Grade]\\n\")\n",
    "    ])\n",
    "    \n",
    "    grading_chain = grading_prompt | llm.with_structured_output(schema=GradeResponse)\n",
    "    \n",
    "    grade_response = grading_chain.invoke({\n",
    "        \"question\": question,\n",
    "        \"context\": context,\n",
    "        \"answer\": answer\n",
    "    })\n",
    "\n",
    "    # Increment the number of response generations\n",
    "    num_generation = state.get('num_generation', 0)\n",
    "    num_generation += 1\n",
    "    \n",
    "    return {\"grade\": grade_response.score, \"num_generation\": num_generation}"
   ]
  },
  {
   "cell_type": "markdown",
   "metadata": {},
   "source": [
    "`(4) Edge`"
   ]
  },
  {
   "cell_type": "code",
   "execution_count": 13,
   "metadata": {},
   "outputs": [],
   "source": [
    "from typing import Literal\n",
    "\n",
    "\n",
    "def should_retry(state: GraphState) -> Literal[\"retrieve_and_respond\", \"generate\"]:\n",
    "    print(\"----GRADTING---\")\n",
    "    print(\"Grade Score: \", state[\"grade\"])\n",
    "\n",
    "    # If the number of response generations is 3 or more, return \"generate\"\n",
    "    if state[\"num_generation\"] > 2: \n",
    "        return \"generate\"    \n",
    "    \n",
    "    # If the answer quality score is less than 0.7, re-run the RAG chain\n",
    "    if state[\"grade\"] < 0.7:  \n",
    "        return \"retrieve_and_respond\"\n",
    "    else:\n",
    "        return \"generate\""
   ]
  },
  {
   "cell_type": "markdown",
   "metadata": {},
   "source": [
    "`(5) Graph Configuration`"
   ]
  },
  {
   "cell_type": "code",
   "execution_count": 16,
   "metadata": {},
   "outputs": [
    {
     "data": {
      "image/jpeg": "[encoded data removed]",
      "text/plain": [
       "<IPython.core.display.Image object>"
      ]
     },
     "metadata": {},
     "output_type": "display_data"
    }
   ],
   "source": [
    "# Graph setup\n",
    "builder = StateGraph(GraphState)\n",
    "builder.add_node(\"retrieve_and_respond\", retrieve_and_respond)\n",
    "builder.add_node(\"grade_answer\", grade_answer)\n",
    "\n",
    "builder.add_edge(START, \"retrieve_and_respond\")\n",
    "builder.add_edge(\"retrieve_and_respond\", \"grade_answer\")\n",
    "builder.add_conditional_edges(\n",
    "    \"grade_answer\",\n",
    "    should_retry,\n",
    "    {\n",
    "        \"retrieve_and_respond\": \"retrieve_and_respond\",\n",
    "        \"generate\": END\n",
    "    }\n",
    ")\n",
    "\n",
    "# Compile graph\n",
    "graph = builder.compile()\n",
    "\n",
    "# Visualize graph\n",
    "display(Image(graph.get_graph().draw_mermaid_png()))"
   ]
  },
  {
   "cell_type": "markdown",
   "metadata": {},
   "source": [
    "`(6) Execute Graph`"
   ]
  },
  {
   "cell_type": "code",
   "execution_count": 17,
   "metadata": {},
   "outputs": [
    {
     "name": "stdout",
     "output_type": "stream",
     "text": [
      "----GRADTING---\n",
      "Grade Score:  1.0\n",
      "Final State: {'messages': [HumanMessage(content='Recommend a menu for a vegetarian.', additional_kwargs={}, response_metadata={}, id='2aee9ce3-7511-422a-913c-805aca651005'), AIMessage(content=\"For vegetarians, we recommend the 'Garden Salad'. This salad is composed of fresh vegetables such as organic mixed greens, cherry tomatoes, cucumbers, and carrots, and the balsamic dressing enhances the taste of the vegetables. It is a menu where you can enjoy a healthy and crispy texture. The price is ₩12,000.\", additional_kwargs={}, response_metadata={}, id='1c1cf75b-26b9-4879-9108-64135b3c3535')], 'documents': [Document(metadata={'menu_name': 'Garden Salad', 'menu_number': 5, 'source': './data/restaurant_menu.txt'}, page_content='5. Garden Salad\\n   • Price: ₩12,000\\n   • Main Ingredients: Organic mixed greens, cherry tomatoes, cucumbers, carrots, balsamic dressing\\n   • Description: A healthy salad composed of fresh organic vegetables. You can enjoy various tastes and textures by adding sweet cherry tomatoes, cucumbers, and carrots to the crispy mixed greens. The special balsamic dressing enhances the natural taste of the vegetables.'), Document(metadata={'menu_name': 'Seafood Pasta', 'menu_number': 6, 'source': './data/restaurant_menu.txt'}, page_content='6. Seafood Pasta\\n   • Price: ₩24,000\\n   • Main Ingredients: Linguine pasta, shrimp, mussels, squid, tomato sauce\\n   • Description: A menu with plenty of fresh seafood on top of linguine pasta cooked al dente. The acidity of the tomato sauce and the savory taste of the seafood are in harmony, and the flavor is enhanced with garlic and olive oil. Garnish with parsley to add a fragrant taste.')], 'grade': 1.0, 'num_generation': 1}\n"
     ]
    }
   ],
   "source": [
    "# Initial state\n",
    "initial_state = {\n",
    "    \"messages\": [HumanMessage(content=\"Recommend a menu for a vegetarian.\")],\n",
    "}\n",
    "\n",
    "# Execute graph\n",
    "final_state = graph.invoke(initial_state)\n",
    "\n",
    "# Print final state\n",
    "print(\"Final State:\", final_state)"
   ]
  },
  {
   "cell_type": "code",
   "execution_count": 18,
   "metadata": {},
   "outputs": [
    {
     "name": "stdout",
     "output_type": "stream",
     "text": [
      "(\"For vegetarians, we recommend the 'Garden Salad'. This salad is composed of fresh vegetables such as organic mixed greens, cherry tomatoes, cucumbers, and carrots, and the balsamic dressing enhances the taste of the vegetables. It is a menu where you can enjoy a healthy and crispy texture. The price is ₩12,000.\")\n"
     ]
    }
   ],
   "source": [
    "# Print only the final answer\n",
    "pprint(final_state['messages'][-1].content) "
   ]
  },
  {
   "cell_type": "markdown",
   "metadata": {},
   "source": [
    "## 4. Gradio Chatbot"
   ]
  },
  {
   "cell_type": "code",
   "execution_count": 19,
   "metadata": {},
   "outputs": [
    {
     "name": "stdout",
     "output_type": "stream",
     "text": [
      "Running on local URL:  http://127.0.0.1:7860\n",
      "\n",
      "To create a public link, set `share=True` in `launch()`.\n"
     ]
    },
    {
     "data": {
      "text/html": [
       "<div><iframe src=\"http://127.0.0.1:7860/\" width=\"100%\" height=\"500\" allow=\"autoplay; camera; microphone; clipboard-read; clipboard-write;\" frameborder=\"0\" allowfullscreen></iframe></div>"
      ],
      "text/plain": [
       "<IPython.core.display.HTML object>"
      ]
     },
     "metadata": {},
     "output_type": "display_data"
    },
    {
     "data": {
      "text/plain": []
     },
     "execution_count": 19,
     "metadata": {},
     "output_type": "execute_result"
    },
    {
     "name": "stdout",
     "output_type": "stream",
     "text": [
      "----GRADTING---\n",
      "Grade Score:  1.0\n",
      "----GRADTING---\n",
      "Grade Score:  1.0\n",
      "----GRADTING---\n",
      "Grade Score:  1.0\n",
      "----GRADTING---\n",
      "Grade Score:  1.0\n"
     ]
    }
   ],
   "source": [
    "import gradio as gr\n",
    "from typing import List, Tuple\n",
    "\n",
    "# Example questions\n",
    "example_questions = [\n",
    "    \"Recommend a menu for a vegetarian.\",\n",
    "    \"What is today's special menu?\",\n",
    "    \"What drink goes well with pasta?\"\n",
    "]\n",
    "\n",
    "# Define answer function\n",
    "def answer_invoke(message: str, history: List[Tuple[str, str]]) -> str:\n",
    "    try:\n",
    "        # Convert chat history to a format that can be passed to the AI\n",
    "        chat_history = []\n",
    "        for human, ai in history:\n",
    "            chat_history.append(HumanMessage(content=human))\n",
    "            chat_history.append(AIMessage(content=ai))\n",
    "\n",
    "        # Add the user's message to the existing chat history (use only the last 2 conversations)\n",
    "        initial_state = {\n",
    "            \"messages\": chat_history[-2:]+[HumanMessage(content=message)],  \n",
    "        }\n",
    "\n",
    "        # Process the message and return the final state\n",
    "        final_state = graph.invoke(initial_state)\n",
    "        \n",
    "        # Return the necessary part from the final state (e.g., recommended menu, etc.)\n",
    "        return final_state[\"messages\"][-1].content\n",
    "        \n",
    "    except Exception as e:\n",
    "        # Notify the user and log the error if one occurs\n",
    "        print(f\"Error occurred: {str(e)}\")\n",
    "        return \"Sorry, an error occurred while generating a response. Please try again.\"\n",
    "\n",
    "\n",
    "# Create Gradio interface\n",
    "demo = gr.ChatInterface(\n",
    "    fn=answer_invoke,\n",
    "    title=\"Restaurant Menu AI Assistant\",\n",
    "    description=\"We will answer your questions about menu information, recommendations, and food.\",\n",
    "    examples=example_questions,\n",
    "    theme=gr.themes.Soft()\n",
    ")\n",
    "\n",
    "# Launch Gradio app\n",
    "demo.launch()\n"
   ]
  },
  {
   "cell_type": "code",
   "execution_count": 20,
   "metadata": {},
   "outputs": [
    {
     "name": "stdout",
     "output_type": "stream",
     "text": [
      "Closing server running on port: 7860\n"
     ]
    }
   ],
   "source": [
    "# Close demo\n",
    "demo.close()\n"
   ]
  },
  {
   "cell_type": "code",
   "execution_count": null,
   "metadata": {},
   "outputs": [],
   "source": []
  }
 ],
 "metadata": {
  "kernelspec": {
   "display_name": "langgraph-agent-fZJ3tIVY-py3.11",
   "language": "python",
   "name": "python3"
  },
  "language_info": {
   "codemirror_mode": {
    "name": "ipython",
    "version": 3
   },
   "file_extension": ".py",
   "mimetype": "text/x-python",
   "name": "python",
   "nbconvert_exporter": "python",
   "pygments_lexer": "ipython3",
   "version": "3.11.9"
  }
 },
 "nbformat": 4,
 "nbformat_minor": 2
}
